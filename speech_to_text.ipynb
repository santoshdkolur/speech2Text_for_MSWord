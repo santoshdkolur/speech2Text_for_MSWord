{
 "cells": [
  {
   "cell_type": "markdown",
   "metadata": {},
   "source": [
    "### Dependencies to be installed:\n",
    "        - pyautogui            ( pip install pyautogui )\n",
    "        - speech_recognition   ( pip install SpeechRecognition )\n",
    "        - win32gui             ( pip install win32gui )\n",
    "        - pyaudio              ( pip install pyaudio )\n",
    "        \n",
    "The below code is written for Windows and will not work on other platforms. \n",
    "Changes to lines using procedures from the library win32gui have to be made in accordance to your machine.\n",
    "\n",
    "##### Note : Requires active internet connect to work and might have lags. I will try to update this with a better version when I get time."
   ]
  },
  {
   "cell_type": "code",
   "execution_count": 2,
   "metadata": {},
   "outputs": [],
   "source": [
    "import pyautogui as p\n",
    "import speech_recognition as sr\n",
    "import os\n",
    "from time import sleep\n",
    "from win32gui import GetWindowText, GetForegroundWindow"
   ]
  },
  {
   "cell_type": "code",
   "execution_count": 22,
   "metadata": {},
   "outputs": [],
   "source": [
    "def SpeechToText(r):\n",
    "    \n",
    "    #The code can be used to enter data into any text field by making the appropriate changes.\n",
    "    #Refer the readme.md file on github to know what lines to change.\n",
    "    \n",
    "    p.alert(text='Are you ready?', title='START', button='Yes')\n",
    "    while(True):\n",
    "        path=input(\"Enter the path to your word file. Ex C:\\\\Users\\\\Meow\\\\Documents\\\\test.docx \\nType Here:  \")\n",
    "        path='\\\\\\\\'.join(path.split('\\\\'))\n",
    "        try:\n",
    "            os.startfile(\"meow\")\n",
    "        except:\n",
    "            print(\"File not found or invalid path!\\nTry again: \")\n",
    "            continue\n",
    "        break\n",
    "                \n",
    "    count=1                                                            #Keeping the count to switch to the tab where the Word is open.\n",
    "    while('Word' not in GetWindowText(GetForegroundWindow())[-4:]):    #The letters 'Word' might differ on your machine. This is for windows.\n",
    "        p.keyDown('altleft')\n",
    "        count=count+1\n",
    "        for i in range(1,count+1):\n",
    "            p.press('tab')\n",
    "        sleep(0.3)\n",
    "        p.keyUp('altleft')\n",
    "    p.write('Speak Now: ')                                             \n",
    "    inp=''\n",
    "    while(inp!= 'Cancel'):\n",
    "        with sr.Microphone() as source:\n",
    "            r.adjust_for_ambient_noise(source, duration=0.2)\n",
    "            #Listen \n",
    "            audio = r.listen(source)\n",
    "            # Recognise.   Needs active internet connection\n",
    "            try:\n",
    "                Text = r.recognize_google(audio)\n",
    "\n",
    "                for char in Text:\n",
    "                    if(char.isupper()):\n",
    "                        p.keyDown('shift')\n",
    "                        p.press(char)\n",
    "                        p.keyUp('shift')\n",
    "                    else:\n",
    "                        p.press(str(char))\n",
    "            \n",
    "            except sr.UnknownValueError:\n",
    "                p.alert(text=\"Google Speech Recognition could not understand audio\",title=\"Not Recognized!\",button=\"Okay\")\n",
    "                \n",
    "        inp=p.confirm(text='Would you like to continue? ', title='CONFIRM', buttons=['OK', 'Cancel'])"
   ]
  },
  {
   "cell_type": "code",
   "execution_count": 23,
   "metadata": {},
   "outputs": [],
   "source": [
    "def main():\n",
    "    r = sr.Recognizer()\n",
    "    SpeechToText(r)"
   ]
  },
  {
   "cell_type": "code",
   "execution_count": 24,
   "metadata": {},
   "outputs": [],
   "source": [
    "main()"
   ]
  }
 ],
 "metadata": {
  "kernelspec": {
   "display_name": "Python 3",
   "language": "python",
   "name": "python3"
  },
  "language_info": {
   "codemirror_mode": {
    "name": "ipython",
    "version": 3
   },
   "file_extension": ".py",
   "mimetype": "text/x-python",
   "name": "python",
   "nbconvert_exporter": "python",
   "pygments_lexer": "ipython3",
   "version": "3.7.5"
  }
 },
 "nbformat": 4,
 "nbformat_minor": 4
}
